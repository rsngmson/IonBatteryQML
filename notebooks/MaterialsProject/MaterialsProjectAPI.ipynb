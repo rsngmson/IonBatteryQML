{
 "cells": [
  {
   "cell_type": "markdown",
   "id": "e95e53a8",
   "metadata": {},
   "source": [
    "API Key: yxp9yXtnQLsdHJFy9EQoS4bBRvLrxbez"
   ]
  },
  {
   "cell_type": "code",
   "execution_count": 65,
   "id": "7585885c",
   "metadata": {},
   "outputs": [],
   "source": [
    "from mp_api.client import MPRester\n",
    "import pandas as pd"
   ]
  },
  {
   "cell_type": "code",
   "execution_count": 66,
   "id": "23d7ce57",
   "metadata": {},
   "outputs": [],
   "source": [
    "api_key = \"yxp9yXtnQLsdHJFy9EQoS4bBRvLrxbez\""
   ]
  },
  {
   "cell_type": "code",
   "execution_count": 67,
   "id": "f65caef8",
   "metadata": {},
   "outputs": [],
   "source": [
    "# ['battery_type', 'battery_id', 'thermo_type', 'battery_formula', 'working_ion', \n",
    "# 'num_steps', 'max_voltage_step', 'last_updated', 'framework', 'framework_formula', \n",
    "# 'elements', 'nelements', 'chemsys', 'formula_anonymous', 'warnings', 'formula_charge', \n",
    "# 'formula_discharge', 'max_delta_volume', 'average_voltage', 'capacity_grav', 'capacity_vol', \n",
    "# 'energy_grav', 'energy_vol', 'fracA_charge', 'fracA_discharge', 'stability_charge', 'stability_discharge', \n",
    "# 'id_charge', 'id_discharge', 'host_structure', 'adj_pairs', 'material_ids', 'entries_composition_summary', \n",
    "# 'electrode_object']"
   ]
  },
  {
   "cell_type": "code",
   "execution_count": 68,
   "id": "fcbb1558",
   "metadata": {},
   "outputs": [],
   "source": [
    "working_ion_list = [\"Li\", \"Ca\", \"K\", \"Al\", \"Mg\", \"Na\", \"Rb\", \"Y\", \"Zn\"]"
   ]
  },
  {
   "cell_type": "code",
   "execution_count": 69,
   "id": "01aa0679",
   "metadata": {},
   "outputs": [
    {
     "name": "stderr",
     "output_type": "stream",
     "text": [
      "/var/folders/7m/q4tfxjb53l137r3zt2w5xgb40000gn/T/ipykernel_45407/2943690097.py:4: DeprecationWarning: Accessing insertion_electrodes data through MPRester.insertion_electrodes is deprecated. Please use MPRester.materials.insertion_electrodes instead.\n",
      "  docs = mpr.insertion_electrodes.search(\n",
      "Retrieving InsertionElectrodeDoc documents: 100%|██████████| 2434/2434 [00:00<00:00, 2443.18it/s]\n",
      "Retrieving InsertionElectrodeDoc documents:  70%|██████▉   | 1000/1438 [07:38<03:20,  2.18it/s]\n",
      "Retrieving InsertionElectrodeDoc documents: 100%|██████████| 550/550 [00:00<00:00, 16716428.99it/s]\n",
      "Retrieving InsertionElectrodeDoc documents: 100%|██████████| 109/109 [00:00<00:00, 2658018.23it/s]\n",
      "Retrieving InsertionElectrodeDoc documents: 100%|██████████| 131/131 [00:00<00:00, 2154720.88it/s]\n",
      "Retrieving InsertionElectrodeDoc documents: 100%|██████████| 1438/1438 [00:00<00:00, 1986.96it/s]\n",
      "Retrieving InsertionElectrodeDoc documents: 100%|██████████| 314/314 [00:00<00:00, 5065428.68it/s]\n",
      "Retrieving InsertionElectrodeDoc documents: 100%|██████████| 39/39 [00:00<00:00, 582127.60it/s]\n",
      "Retrieving InsertionElectrodeDoc documents: 100%|██████████| 146/146 [00:00<00:00, 3479365.82it/s]\n",
      "Retrieving InsertionElectrodeDoc documents: 100%|██████████| 390/390 [00:00<00:00, 8654913.02it/s]\n"
     ]
    }
   ],
   "source": [
    "data2 = []\n",
    "for working_ion in working_ion_list:\n",
    "    with MPRester(api_key) as mpr:\n",
    "        docs = mpr.insertion_electrodes.search(\n",
    "            working_ion=working_ion,\n",
    "            fields=[\n",
    "                \"battery_id\", \"battery_formula\", \"framework_formula\",\n",
    "                \"formula_discharge\",\n",
    "                \"average_voltage\", \"capacity_grav\", \"capacity_vol\",\n",
    "                \"energy_grav\", \"energy_vol\", \"max_delta_volume\",\n",
    "                \"stability_charge\", \"stability_discharge\", 'id_charge', 'id_discharge', 'working_ion', \n",
    "                \"formula_charge\"\n",
    "            ]\n",
    "        )\n",
    "    for doc in docs:\n",
    "        data2.append({\n",
    "            \"battery_id\": doc.battery_id,\n",
    "            \"id_charge\": doc.id_charge,\n",
    "            \"id_discharge\": doc.id_discharge,\n",
    "            \"battery_formula\": doc.battery_formula,\n",
    "            \"framework_formula\": doc.framework_formula,\n",
    "            \"formula_discharge\": doc.formula_discharge,\n",
    "            \"formula_charge\": doc.formula_charge,\n",
    "            \"working_ion\": doc.working_ion,\n",
    "            \"V_avg\": doc.average_voltage,\n",
    "            \"capacity_grav\": doc.capacity_grav,\n",
    "            \"capacity_vol\": doc.capacity_vol,\n",
    "            \"energy_grav\": doc.energy_grav,\n",
    "            \"energy_vol\": doc.energy_vol,\n",
    "            \"max_delta_volume\": doc.max_delta_volume,\n",
    "            \"stability_charge\": doc.stability_charge,\n",
    "            \"stability_discharge\": doc.stability_discharge,\n",
    "        })"
   ]
  },
  {
   "cell_type": "code",
   "execution_count": 70,
   "id": "33ad780f",
   "metadata": {},
   "outputs": [
    {
     "name": "stdout",
     "output_type": "stream",
     "text": [
      "     battery_id  id_charge id_discharge battery_formula framework_formula  \\\n",
      "0      mp-28_Li      mp-28   mp-1185231         Li0-3Ce                Ce   \n",
      "1  mp-573471_Li  mp-573471   mp-1198729    Li4.25-4.4Sn                Sn   \n",
      "2      mp-80_Li      mp-80      mp-7955         Li0-3Sb                Sb   \n",
      "3     mp-124_Li     mp-124    mp-865875         Li0-3Ag                Ag   \n",
      "4  mp-568806_Li  mp-568806   mp-1001581       Li0-0.17C                 C   \n",
      "\n",
      "  formula_discharge formula_charge working_ion     V_avg  capacity_grav  \\\n",
      "0             Li3Ce             Ce          Li -0.444846     499.595769   \n",
      "1           Li22Sn5        Li17Sn4          Li -0.840299      26.936090   \n",
      "2             Li3Sb             Sb          Li  1.099595     563.913254   \n",
      "3             Li3Ag             Ag          Li  0.163836     624.785871   \n",
      "4              LiC6              C          Li  0.288598     339.236925   \n",
      "\n",
      "   capacity_vol  energy_grav   energy_vol  max_delta_volume  stability_charge  \\\n",
      "0   1295.168213  -222.242937  -576.149771          3.042358          0.000000   \n",
      "1     69.584747   -22.634379   -58.472018          0.009450          0.000000   \n",
      "2   1701.062460   620.075950  1870.479038          1.863614          0.290332   \n",
      "3   2033.553086   102.362464   333.169353          2.798380          0.002127   \n",
      "4    759.114650    97.903078   219.078926          0.052252          0.007597   \n",
      "\n",
      "   stability_discharge  \n",
      "0             0.333634  \n",
      "1             0.010070  \n",
      "2             0.000000  \n",
      "3             0.000000  \n",
      "4             0.000490  \n"
     ]
    }
   ],
   "source": [
    "df2 = pd.DataFrame(data2)\n",
    "print(df2.head())\n",
    "df2.to_csv(\"/Users/sonn/Sonn/Workspace/Projects/IonBatteryQML/data/MaterialsProject/All_MaterialsProjectIonBattery.csv\", index=False)\n",
    "\n"
   ]
  },
  {
   "cell_type": "code",
   "execution_count": 71,
   "id": "1e21770c",
   "metadata": {},
   "outputs": [
    {
     "data": {
      "text/plain": [
       "(5551, 16)"
      ]
     },
     "execution_count": 71,
     "metadata": {},
     "output_type": "execute_result"
    }
   ],
   "source": [
    "df2.shape"
   ]
  }
 ],
 "metadata": {
  "kernelspec": {
   "display_name": "WSAIPytorch3.11",
   "language": "python",
   "name": "python3"
  },
  "language_info": {
   "codemirror_mode": {
    "name": "ipython",
    "version": 3
   },
   "file_extension": ".py",
   "mimetype": "text/x-python",
   "name": "python",
   "nbconvert_exporter": "python",
   "pygments_lexer": "ipython3",
   "version": "3.11.11"
  }
 },
 "nbformat": 4,
 "nbformat_minor": 5
}
